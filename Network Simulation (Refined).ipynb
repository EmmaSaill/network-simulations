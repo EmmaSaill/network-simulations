{
 "cells": [
  {
   "cell_type": "markdown",
   "metadata": {},
   "source": [
    "# Interbank Network Simulation (Refined)"
   ]
  },
  {
   "cell_type": "markdown",
   "metadata": {},
   "source": [
    "Using the Furfine Algorithm, we calculate the effect of a random bank default in the setting of an Erdos-Renyi network. This is done as follows:\n",
    "\n",
    "1. Create a bank object with a fixed balance sheet. \n",
    "2. Initialise a network where nodes are banks and edges are interbank loans.\n",
    "   - A network is connected to another network if a number chosen at random is smaller than some probability p.\n",
    "3. Randomly default one of the banks in the network by setting their assets to zero. \n",
    "4. Recalculate the total assets of each bank connected to the defaulted bank.\n",
    "   - To do this, subtract the defaulted bank's interbank liability from its neighbouring banks' assets.\n",
    "5. If for the neighbouring banks' assets are now less than zero, mark this as another default and repeat step 3 onwards modelling the defaulting bank as this bank.\n"
   ]
  },
  {
   "cell_type": "markdown",
   "metadata": {},
   "source": [
    "## Generate a Random Financial Network"
   ]
  },
  {
   "cell_type": "code",
   "execution_count": 1,
   "metadata": {},
   "outputs": [],
   "source": [
    "EXTERNAL_ASSETS = 0.8  ##don't know why 0.3"
   ]
  },
  {
   "cell_type": "code",
   "execution_count": 2,
   "metadata": {},
   "outputs": [],
   "source": [
    "class Bank(object):\n",
    "    def __init__(self, bank_id, interbank_assets=0.2, liabilities=0.96, default=False):\n",
    "        self.bank_id = bank_id\n",
    "        self.interbank_assets = interbank_assets\n",
    "        self.liabilities = liabilities\n",
    "        self.default = default\n",
    "        self.bank_connected = []\n",
    "        global EXTERNAL_ASSETS\n",
    "        self.total_assets = self.interbank_assets + EXTERNAL_ASSETS\n",
    "        self.edges = [] # Elements of edges: (the bank itself, the bank it borrows money from, the amount of liabilities)\n",
    "        \n",
    "    # For NetworkX to label the bank based on ID.\n",
    "    def __str__(self):\n",
    "        return str(self.bank_id)\n",
    "    \n",
    "    # This function is called when the bank connected to 'self' defaults, transmitting its loss to the asset.\n",
    "    def update_total_assets(self, loss):\n",
    "        self.total_assets = self.total_assets - loss\n",
    "        if(self.total_assets-0.96 < 0):  ##equity not assets\n",
    "            self.default_bank()\n",
    "        \n",
    "    # This function is called every time 'self' borrows money from a new bank.  \n",
    "    def update_connection(self, bank):\n",
    "        self.bank_connected.append(bank)\n",
    "    \n",
    "    # This function is called when the bank is set to default.\n",
    "    def default_bank(self):\n",
    "        self.default = True\n",
    "        if(self.total_assets > 0.95): ##less than 0.96 equity will less than 0\n",
    "            self.total_assets = 0.95\n",
    "        for bank in self.bank_connected:\n",
    "            if(bank.default == False): ##stop recursion\n",
    "                bank.update_total_assets(bank.current_liabilities()) ##check connected banks's losses in assets\n",
    "    \n",
    "    # Erdos Renyi, where the link weights are uniform. \n",
    "    def current_liabilities(self):\n",
    "        k = len(self.bank_connected)\n",
    "        return 0.2/k  ##losses in interbank assets not liabilites(may need change function name)\n",
    "\n",
    "    # This function is called when the bank finishes borrowing from other banks, and it can list out all edges (from itself to other banks) with associated weights.\n",
    "    def compile_connection(self):\n",
    "        for bank in self.bank_connected:\n",
    "            self.edges.append((self.bank_id, bank.bank_id, self.current_liabilities()))"
   ]
  },
  {
   "cell_type": "markdown",
   "metadata": {},
   "source": [
    "## Generate the Graph"
   ]
  },
  {
   "cell_type": "code",
   "execution_count": 3,
   "metadata": {},
   "outputs": [],
   "source": [
    "class Graph(object):\n",
    "    def __init__(self, bank_number=10000, borrow_probability=0.005):\n",
    "        self.bank_number = bank_number\n",
    "        self.borrow_probability = borrow_probability\n",
    "        self.bank_list = []\n",
    "    \n",
    "    # Generate random banks and random connections between banks.\n",
    "    def generate_bank(self):\n",
    "        for i in range(self.bank_number):\n",
    "            newBank = Bank(bank_id=i)\n",
    "            self.bank_list.append(newBank)\n",
    "        \n",
    "        potential_lender = self.bank_list.copy()\n",
    "        \n",
    "        for bank in self.bank_list:\n",
    "            for lender in potential_lender:\n",
    "                import random\n",
    "                tendency = random.uniform(0, 1) # Generate random number. The lower, the higher chance of a connection.\n",
    "                if(bank!=lender and tendency < self.borrow_probability):\n",
    "                    bank.update_connection(lender)\n",
    "            bank.compile_connection()\n",
    "\n",
    "    def draw_graph(self):\n",
    "        self.generate_bank()\n",
    "        import pygraphviz as pgv\n",
    "        G=pgv.AGraph(strict=False,directed=True)\n",
    "        G.add_nodes_from(self.bank_list)\n",
    "        G.edge_attr['penwidth']=1.0\n",
    "        G.edge_attr['fontcolor']='red'\n",
    "        G.edge_attr['len']= 0.3 * self.bank_number\n",
    "        for bank in self.bank_list:\n",
    "            for edge in bank.edges:\n",
    "                G.add_edge(edge[0], edge[1], label=round(edge[2],2))        \n",
    "        \n",
    "        G.layout()\n",
    "        G.draw('network.png') \n",
    "        \n",
    "    def print_banks_status(self):\n",
    "        for bank in self.bank_list:\n",
    "            defaultStatus = 'Default' if bank.default else 'Active'\n",
    "            print('Bank ', bank.bank_id, ' : {0:.3f}'.format(round(bank.total_assets,3)), ' ' , defaultStatus, len(bank.bank_connected))\n",
    "            \n",
    "    def random_default_bank(self):\n",
    "        import random\n",
    "        random_bank = random.choice(self.bank_list)\n",
    "        random_bank.default_bank()\n",
    "        print(\"The bank chosen to default is Bank\" , random_bank.bank_id)"
   ]
  },
  {
   "cell_type": "markdown",
   "metadata": {},
   "source": [
    "## Initialise and Display Graph"
   ]
  },
  {
   "cell_type": "code",
   "execution_count": null,
   "metadata": {},
   "outputs": [],
   "source": [
    "graph = Graph(bank_number=10000)\n",
    "graph.draw_graph()\n",
    "from IPython.display import Image\n",
    "Image('network.png')"
   ]
  },
  {
   "cell_type": "code",
   "execution_count": null,
   "metadata": {},
   "outputs": [],
   "source": [
    "graph.print_banks_status()"
   ]
  },
  {
   "cell_type": "markdown",
   "metadata": {},
   "source": [
    "## Randomly Default a Bank"
   ]
  },
  {
   "cell_type": "code",
   "execution_count": null,
   "metadata": {},
   "outputs": [],
   "source": [
    "graph.random_default_bank()"
   ]
  },
  {
   "cell_type": "code",
   "execution_count": null,
   "metadata": {},
   "outputs": [],
   "source": [
    "graph.print_banks_status()"
   ]
  },
  {
   "cell_type": "markdown",
   "metadata": {},
   "source": [
    "### Todo:\n",
    "1. Functions for calculating (a) average degree of a graph and (b) probability of contagion\n",
    "2. Add graph of average degree (x-axis) against probability of contagion (y-axis)."
   ]
  },
  {
   "cell_type": "code",
   "execution_count": null,
   "metadata": {},
   "outputs": [],
   "source": []
  },
  {
   "cell_type": "code",
   "execution_count": null,
   "metadata": {},
   "outputs": [],
   "source": []
  }
 ],
 "metadata": {
  "kernelspec": {
   "display_name": "Python 3",
   "language": "python",
   "name": "python3"
  },
  "language_info": {
   "codemirror_mode": {
    "name": "ipython",
    "version": 3
   },
   "file_extension": ".py",
   "mimetype": "text/x-python",
   "name": "python",
   "nbconvert_exporter": "python",
   "pygments_lexer": "ipython3",
   "version": "3.7.4"
  }
 },
 "nbformat": 4,
 "nbformat_minor": 2
}
